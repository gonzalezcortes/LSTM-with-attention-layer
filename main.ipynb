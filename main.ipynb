{
 "cells": [
  {
   "cell_type": "markdown",
   "id": "e13e9bee",
   "metadata": {},
   "source": [
    "# LSTM with Explainability using an attention layer"
   ]
  },
  {
   "cell_type": "markdown",
   "id": "bb612aef",
   "metadata": {},
   "source": [
    "In this notebook introduces a prediction using a Long Short-Term Memory (LSTM) with explainability. The data set used is \"Power consumption of Tetouan city Data Set\" from UCI Machine Learning Repository.\n"
   ]
  },
  {
   "cell_type": "markdown",
   "id": "7f9eaaa9",
   "metadata": {},
   "source": [
    "## Libraries"
   ]
  },
  {
   "cell_type": "code",
   "execution_count": 1,
   "id": "3123434a",
   "metadata": {},
   "outputs": [],
   "source": [
    "import numpy\n",
    "import numpy as np\n",
    "import pandas as pd\n",
    "import matplotlib.pyplot as plt\n",
    "import seaborn as sns"
   ]
  },
  {
   "cell_type": "code",
   "execution_count": 2,
   "id": "1d03af9c",
   "metadata": {},
   "outputs": [],
   "source": [
    "from tensorflow import keras\n",
    "from keras import Model\n",
    "from keras.layers import Layer"
   ]
  },
  {
   "cell_type": "code",
   "execution_count": 3,
   "id": "a4a78821",
   "metadata": {},
   "outputs": [],
   "source": [
    "from keras.layers.core import Dense, Reshape, Permute"
   ]
  },
  {
   "cell_type": "code",
   "execution_count": 4,
   "id": "c2bdb69a",
   "metadata": {},
   "outputs": [],
   "source": [
    "seed = 7\n",
    "keras.utils.set_random_seed(seed)\n",
    "np.random.seed(seed)"
   ]
  },
  {
   "cell_type": "markdown",
   "id": "08a08a6d",
   "metadata": {},
   "source": [
    "## Data Processing"
   ]
  },
  {
   "cell_type": "code",
   "execution_count": 5,
   "id": "d5e604a2",
   "metadata": {},
   "outputs": [
    {
     "data": {
      "text/html": [
       "<div>\n",
       "<style scoped>\n",
       "    .dataframe tbody tr th:only-of-type {\n",
       "        vertical-align: middle;\n",
       "    }\n",
       "\n",
       "    .dataframe tbody tr th {\n",
       "        vertical-align: top;\n",
       "    }\n",
       "\n",
       "    .dataframe thead th {\n",
       "        text-align: right;\n",
       "    }\n",
       "</style>\n",
       "<table border=\"1\" class=\"dataframe\">\n",
       "  <thead>\n",
       "    <tr style=\"text-align: right;\">\n",
       "      <th></th>\n",
       "      <th>DateTime</th>\n",
       "      <th>Temperature</th>\n",
       "      <th>Humidity</th>\n",
       "      <th>Wind Speed</th>\n",
       "      <th>general diffuse flows</th>\n",
       "      <th>diffuse flows</th>\n",
       "      <th>Zone 1 Power Consumption</th>\n",
       "      <th>Zone 2  Power Consumption</th>\n",
       "      <th>Zone 3  Power Consumption</th>\n",
       "    </tr>\n",
       "  </thead>\n",
       "  <tbody>\n",
       "    <tr>\n",
       "      <th>0</th>\n",
       "      <td>1/1/2017 0:00</td>\n",
       "      <td>6.559</td>\n",
       "      <td>73.8</td>\n",
       "      <td>0.083</td>\n",
       "      <td>0.051</td>\n",
       "      <td>0.119</td>\n",
       "      <td>34055.69620</td>\n",
       "      <td>16128.87538</td>\n",
       "      <td>20240.96386</td>\n",
       "    </tr>\n",
       "    <tr>\n",
       "      <th>1</th>\n",
       "      <td>1/1/2017 0:10</td>\n",
       "      <td>6.414</td>\n",
       "      <td>74.5</td>\n",
       "      <td>0.083</td>\n",
       "      <td>0.070</td>\n",
       "      <td>0.085</td>\n",
       "      <td>29814.68354</td>\n",
       "      <td>19375.07599</td>\n",
       "      <td>20131.08434</td>\n",
       "    </tr>\n",
       "    <tr>\n",
       "      <th>2</th>\n",
       "      <td>1/1/2017 0:20</td>\n",
       "      <td>6.313</td>\n",
       "      <td>74.5</td>\n",
       "      <td>0.080</td>\n",
       "      <td>0.062</td>\n",
       "      <td>0.100</td>\n",
       "      <td>29128.10127</td>\n",
       "      <td>19006.68693</td>\n",
       "      <td>19668.43373</td>\n",
       "    </tr>\n",
       "    <tr>\n",
       "      <th>3</th>\n",
       "      <td>1/1/2017 0:30</td>\n",
       "      <td>6.121</td>\n",
       "      <td>75.0</td>\n",
       "      <td>0.083</td>\n",
       "      <td>0.091</td>\n",
       "      <td>0.096</td>\n",
       "      <td>28228.86076</td>\n",
       "      <td>18361.09422</td>\n",
       "      <td>18899.27711</td>\n",
       "    </tr>\n",
       "    <tr>\n",
       "      <th>4</th>\n",
       "      <td>1/1/2017 0:40</td>\n",
       "      <td>5.921</td>\n",
       "      <td>75.7</td>\n",
       "      <td>0.081</td>\n",
       "      <td>0.048</td>\n",
       "      <td>0.085</td>\n",
       "      <td>27335.69620</td>\n",
       "      <td>17872.34043</td>\n",
       "      <td>18442.40964</td>\n",
       "    </tr>\n",
       "  </tbody>\n",
       "</table>\n",
       "</div>"
      ],
      "text/plain": [
       "        DateTime  Temperature  Humidity  Wind Speed  general diffuse flows  \\\n",
       "0  1/1/2017 0:00        6.559      73.8       0.083                  0.051   \n",
       "1  1/1/2017 0:10        6.414      74.5       0.083                  0.070   \n",
       "2  1/1/2017 0:20        6.313      74.5       0.080                  0.062   \n",
       "3  1/1/2017 0:30        6.121      75.0       0.083                  0.091   \n",
       "4  1/1/2017 0:40        5.921      75.7       0.081                  0.048   \n",
       "\n",
       "   diffuse flows  Zone 1 Power Consumption  Zone 2  Power Consumption  \\\n",
       "0          0.119               34055.69620                16128.87538   \n",
       "1          0.085               29814.68354                19375.07599   \n",
       "2          0.100               29128.10127                19006.68693   \n",
       "3          0.096               28228.86076                18361.09422   \n",
       "4          0.085               27335.69620                17872.34043   \n",
       "\n",
       "   Zone 3  Power Consumption  \n",
       "0                20240.96386  \n",
       "1                20131.08434  \n",
       "2                19668.43373  \n",
       "3                18899.27711  \n",
       "4                18442.40964  "
      ]
     },
     "execution_count": 5,
     "metadata": {},
     "output_type": "execute_result"
    }
   ],
   "source": [
    "data = pd.read_csv('Tetuan_City_power_consumption.csv',delimiter=',')\n",
    "n = len(data)\n",
    "data.head()"
   ]
  },
  {
   "cell_type": "code",
   "execution_count": 6,
   "id": "b7e58e6a",
   "metadata": {},
   "outputs": [
    {
     "data": {
      "text/plain": [
       "Index(['DateTime', 'Temperature', 'Humidity', 'Wind Speed',\n",
       "       'general diffuse flows', 'diffuse flows', 'Zone 1 Power Consumption',\n",
       "       'Zone 2  Power Consumption', 'Zone 3  Power Consumption'],\n",
       "      dtype='object')"
      ]
     },
     "execution_count": 6,
     "metadata": {},
     "output_type": "execute_result"
    }
   ],
   "source": [
    "data.columns"
   ]
  },
  {
   "cell_type": "code",
   "execution_count": 7,
   "id": "c62e49eb",
   "metadata": {},
   "outputs": [
    {
     "data": {
      "text/plain": [
       "<matplotlib.legend.Legend at 0x1e731d9a108>"
      ]
     },
     "execution_count": 7,
     "metadata": {},
     "output_type": "execute_result"
    },
    {
     "data": {
      "image/png": "[encoded data removed]",
      "text/plain": [
       "<Figure size 432x288 with 1 Axes>"
      ]
     },
     "metadata": {
      "needs_background": "light"
     },
     "output_type": "display_data"
    }
   ],
   "source": [
    "x = range(n)\n",
    "plt.plot(x,data['Zone 1 Power Consumption'], label=\"Zone 1\")\n",
    "plt.plot(x,data['Zone 2  Power Consumption'], label=\"Zone 2\")\n",
    "plt.plot(x,data['Zone 3  Power Consumption'], label=\"Zone 3\")\n",
    "plt.title(\"Power Consumption in different zones\")\n",
    "plt.xlabel(\"Dates\")\n",
    "plt.ylabel(\"Consumption\")\n",
    "plt.legend()"
   ]
  },
  {
   "cell_type": "code",
   "execution_count": 8,
   "id": "ef9f7941",
   "metadata": {},
   "outputs": [],
   "source": [
    "norma_df = lambda data: (data - data.min()) / (data.max() - data.min())"
   ]
  },
  {
   "cell_type": "markdown",
   "id": "bff02432",
   "metadata": {},
   "source": [
    "## Training"
   ]
  },
  {
   "cell_type": "markdown",
   "id": "6a290a6e",
   "metadata": {},
   "source": [
    "Predicting Zone 1"
   ]
  },
  {
   "cell_type": "code",
   "execution_count": 9,
   "id": "dd78e75b",
   "metadata": {},
   "outputs": [],
   "source": [
    "y = data['Zone 1 Power Consumption']\n",
    "X = data[['Temperature', 'Humidity', 'Wind Speed','general diffuse flows', 'diffuse flows']]"
   ]
  },
  {
   "cell_type": "code",
   "execution_count": 10,
   "id": "060e67f6",
   "metadata": {},
   "outputs": [],
   "source": [
    "def add_lags(dataset):\n",
    "    mt = []\n",
    "    for i in range(3, len(dataset)):\n",
    "        a = [dataset['Temperature'][i - 3], dataset['Temperature'][i - 2], dataset['Temperature'][i - 1], \n",
    "             dataset['Temperature'][i]]\n",
    "        b = [dataset['Humidity'][i - 3], dataset['Humidity'][i - 2], dataset['Humidity'][i - 1], dataset['Humidity'][i]]\n",
    "        c = [dataset['Wind Speed'][i - 3], dataset['Wind Speed'][i - 2], dataset['Wind Speed'][i - 1], \n",
    "             dataset['Wind Speed'][i]]\n",
    "        d = [dataset['general diffuse flows'][i - 3], dataset['general diffuse flows'][i - 2], dataset['general diffuse flows'][i - 1],\n",
    "             dataset['general diffuse flows'][i]]\n",
    "        e = [dataset['diffuse flows'][i - 3], dataset['diffuse flows'][i - 2], dataset['diffuse flows'][i - 1],\n",
    "             dataset['diffuse flows'][i]]\n",
    "        mt.append([a, b, c, d, e])\n",
    "    return np.array(mt)\n",
    "    "
   ]
  },
  {
   "cell_type": "markdown",
   "id": "7fe72d1f",
   "metadata": {},
   "source": [
    "Splitting into Train and Test dataset"
   ]
  },
  {
   "cell_type": "code",
   "execution_count": 11,
   "id": "5bdf61de",
   "metadata": {},
   "outputs": [],
   "source": [
    "y_training, y_testing = y[3:int(n*0.75)].reset_index(drop=True), y[int(n*0.75)+3:n].reset_index(drop=True)\n",
    "X_training, X_testing = X[0:int(n*0.75)].reset_index(drop=True), X[int(n*0.75):n].reset_index(drop=True)"
   ]
  },
  {
   "cell_type": "markdown",
   "id": "4fc7584f",
   "metadata": {},
   "source": [
    "Normalization"
   ]
  },
  {
   "cell_type": "code",
   "execution_count": 12,
   "id": "848440bb",
   "metadata": {},
   "outputs": [],
   "source": [
    "X_training, X_testing = norma_df(X_training), norma_df(X_testing)"
   ]
  },
  {
   "cell_type": "markdown",
   "id": "9959ceee",
   "metadata": {},
   "source": [
    "Adding lag variables to add into the LSTM model"
   ]
  },
  {
   "cell_type": "code",
   "execution_count": 13,
   "id": "79dd9410",
   "metadata": {},
   "outputs": [],
   "source": [
    "X_training, X_testing = add_lags(X_training), add_lags(X_testing)"
   ]
  },
  {
   "cell_type": "markdown",
   "id": "ba8fbaea",
   "metadata": {},
   "source": [
    "The attention layer based in the work of Kaji et al. (2019) and helps to elucidate the weights from the inputs."
   ]
  },
  {
   "cell_type": "code",
   "execution_count": 14,
   "id": "91011d7c",
   "metadata": {},
   "outputs": [],
   "source": [
    "def attention_layer(inputs, steps):\n",
    "    x = Permute((2, 1))(inputs)\n",
    "    x = Reshape((int(inputs.shape[2]), steps))(x)\n",
    "    x = Dense(steps, activation='softmax')(x)\n",
    "    a = Permute((2, 1), name='attention_layer')(x)\n",
    "    return keras.layers.multiply([inputs, a])"
   ]
  },
  {
   "cell_type": "markdown",
   "id": "a1caf385",
   "metadata": {},
   "source": [
    "LSTM model to predict the Zone 1 Power Consumption"
   ]
  },
  {
   "cell_type": "code",
   "execution_count": 15,
   "id": "e2a31f91",
   "metadata": {},
   "outputs": [],
   "source": [
    "epochs_n = 128\n",
    "batch_size_n = 64"
   ]
  },
  {
   "cell_type": "code",
   "execution_count": 16,
   "id": "29a56952",
   "metadata": {},
   "outputs": [
    {
     "name": "stdout",
     "output_type": "stream",
     "text": [
      "Epoch 1/128\n",
      "615/615 [==============================] - 9s 8ms/step - loss: 222435088.0000\n",
      "Epoch 2/128\n",
      "615/615 [==============================] - 4s 7ms/step - loss: 45705284.0000\n",
      "Epoch 3/128\n",
      "615/615 [==============================] - 4s 6ms/step - loss: 44530176.0000\n",
      "Epoch 4/128\n",
      "615/615 [==============================] - 4s 6ms/step - loss: 44035668.0000\n",
      "Epoch 5/128\n",
      "615/615 [==============================] - 4s 6ms/step - loss: 43464980.0000\n",
      "Epoch 6/128\n",
      "615/615 [==============================] - 4s 6ms/step - loss: 43021912.0000\n",
      "Epoch 7/128\n",
      "615/615 [==============================] - 4s 6ms/step - loss: 42698848.0000\n",
      "Epoch 8/128\n",
      "615/615 [==============================] - 4s 6ms/step - loss: 42470168.0000\n",
      "Epoch 9/128\n",
      "615/615 [==============================] - 4s 7ms/step - loss: 42402944.0000\n",
      "Epoch 10/128\n",
      "615/615 [==============================] - 4s 6ms/step - loss: 42230848.0000\n",
      "Epoch 11/128\n",
      "615/615 [==============================] - 5s 8ms/step - loss: 42030564.0000\n",
      "Epoch 12/128\n",
      "615/615 [==============================] - 4s 6ms/step - loss: 41591360.0000\n",
      "Epoch 13/128\n",
      "615/615 [==============================] - 4s 6ms/step - loss: 41390520.0000\n",
      "Epoch 14/128\n",
      "615/615 [==============================] - 4s 6ms/step - loss: 40815232.0000\n",
      "Epoch 15/128\n",
      "615/615 [==============================] - 6s 9ms/step - loss: 40330772.0000\n",
      "Epoch 16/128\n",
      "615/615 [==============================] - 4s 7ms/step - loss: 40256312.0000\n",
      "Epoch 17/128\n",
      "615/615 [==============================] - 4s 6ms/step - loss: 39910964.0000\n",
      "Epoch 18/128\n",
      "615/615 [==============================] - 5s 8ms/step - loss: 39672028.0000\n",
      "Epoch 19/128\n",
      "615/615 [==============================] - 4s 6ms/step - loss: 39316312.0000\n",
      "Epoch 20/128\n",
      "615/615 [==============================] - 5s 7ms/step - loss: 38673344.0000\n",
      "Epoch 21/128\n",
      "615/615 [==============================] - 4s 6ms/step - loss: 38042508.0000\n",
      "Epoch 22/128\n",
      "615/615 [==============================] - 4s 7ms/step - loss: 37582976.0000\n",
      "Epoch 23/128\n",
      "615/615 [==============================] - 5s 9ms/step - loss: 36990572.0000\n",
      "Epoch 24/128\n",
      "615/615 [==============================] - 4s 7ms/step - loss: 36841900.0000\n",
      "Epoch 25/128\n",
      "615/615 [==============================] - 4s 7ms/step - loss: 36213736.0000\n",
      "Epoch 26/128\n",
      "615/615 [==============================] - 4s 6ms/step - loss: 35784820.0000\n",
      "Epoch 27/128\n",
      "615/615 [==============================] - 5s 7ms/step - loss: 35812644.0000\n",
      "Epoch 28/128\n",
      "615/615 [==============================] - 4s 6ms/step - loss: 35454976.0000\n",
      "Epoch 29/128\n",
      "615/615 [==============================] - 4s 6ms/step - loss: 35324592.0000\n",
      "Epoch 30/128\n",
      "615/615 [==============================] - 4s 6ms/step - loss: 35149864.0000\n",
      "Epoch 31/128\n",
      "615/615 [==============================] - 4s 7ms/step - loss: 35236084.0000\n",
      "Epoch 32/128\n",
      "615/615 [==============================] - 5s 8ms/step - loss: 34788812.0000\n",
      "Epoch 33/128\n",
      "615/615 [==============================] - 4s 7ms/step - loss: 34752584.0000\n",
      "Epoch 34/128\n",
      "615/615 [==============================] - 5s 8ms/step - loss: 34538052.0000\n",
      "Epoch 35/128\n",
      "615/615 [==============================] - 4s 7ms/step - loss: 34326928.0000\n",
      "Epoch 36/128\n",
      "615/615 [==============================] - 5s 9ms/step - loss: 34313204.0000\n",
      "Epoch 37/128\n",
      "615/615 [==============================] - 4s 7ms/step - loss: 34243580.0000\n",
      "Epoch 38/128\n",
      "615/615 [==============================] - 4s 6ms/step - loss: 34183508.0000\n",
      "Epoch 39/128\n",
      "615/615 [==============================] - 4s 6ms/step - loss: 34084672.0000\n",
      "Epoch 40/128\n",
      "615/615 [==============================] - 4s 7ms/step - loss: 34095764.0000\n",
      "Epoch 41/128\n",
      "615/615 [==============================] - 6s 9ms/step - loss: 33955992.0000\n",
      "Epoch 42/128\n",
      "615/615 [==============================] - 5s 8ms/step - loss: 34082652.0000\n",
      "Epoch 43/128\n",
      "615/615 [==============================] - 5s 9ms/step - loss: 33902720.0000\n",
      "Epoch 44/128\n",
      "615/615 [==============================] - 4s 6ms/step - loss: 33672808.0000\n",
      "Epoch 45/128\n",
      "615/615 [==============================] - 5s 8ms/step - loss: 33744248.0000\n",
      "Epoch 46/128\n",
      "615/615 [==============================] - 4s 7ms/step - loss: 33751544.0000\n",
      "Epoch 47/128\n",
      "615/615 [==============================] - 4s 6ms/step - loss: 33657316.0000\n",
      "Epoch 48/128\n",
      "615/615 [==============================] - 4s 7ms/step - loss: 33680976.0000\n",
      "Epoch 49/128\n",
      "615/615 [==============================] - 5s 8ms/step - loss: 33487568.0000\n",
      "Epoch 50/128\n",
      "615/615 [==============================] - 6s 10ms/step - loss: 33601120.0000\n",
      "Epoch 51/128\n",
      "615/615 [==============================] - 6s 9ms/step - loss: 33554924.0000\n",
      "Epoch 52/128\n",
      "615/615 [==============================] - 4s 7ms/step - loss: 33506316.0000\n",
      "Epoch 53/128\n",
      "615/615 [==============================] - 6s 9ms/step - loss: 33384130.0000\n",
      "Epoch 54/128\n",
      "615/615 [==============================] - 6s 10ms/step - loss: 33321110.0000\n",
      "Epoch 55/128\n",
      "615/615 [==============================] - 6s 9ms/step - loss: 33364562.0000\n",
      "Epoch 56/128\n",
      "615/615 [==============================] - 4s 6ms/step - loss: 33373990.0000\n",
      "Epoch 57/128\n",
      "615/615 [==============================] - 4s 6ms/step - loss: 33324022.0000\n",
      "Epoch 58/128\n",
      "615/615 [==============================] - 5s 8ms/step - loss: 33353184.0000\n",
      "Epoch 59/128\n",
      "615/615 [==============================] - 6s 10ms/step - loss: 33245480.0000\n",
      "Epoch 60/128\n",
      "615/615 [==============================] - 5s 8ms/step - loss: 33284368.0000\n",
      "Epoch 61/128\n",
      "615/615 [==============================] - 4s 6ms/step - loss: 33224836.0000\n",
      "Epoch 62/128\n",
      "615/615 [==============================] - 5s 8ms/step - loss: 33219304.0000\n",
      "Epoch 63/128\n",
      "615/615 [==============================] - 5s 8ms/step - loss: 33167298.0000\n",
      "Epoch 64/128\n",
      "615/615 [==============================] - 5s 8ms/step - loss: 33198342.0000\n",
      "Epoch 65/128\n",
      "615/615 [==============================] - 4s 7ms/step - loss: 33100690.0000\n",
      "Epoch 66/128\n",
      "615/615 [==============================] - 4s 7ms/step - loss: 33074184.0000\n",
      "Epoch 67/128\n",
      "615/615 [==============================] - 6s 9ms/step - loss: 33152404.0000\n",
      "Epoch 68/128\n",
      "615/615 [==============================] - 5s 7ms/step - loss: 33142684.0000\n",
      "Epoch 69/128\n",
      "615/615 [==============================] - 4s 7ms/step - loss: 33020430.0000\n",
      "Epoch 70/128\n",
      "615/615 [==============================] - 4s 7ms/step - loss: 32974976.0000\n",
      "Epoch 71/128\n",
      "615/615 [==============================] - 5s 9ms/step - loss: 32993262.0000\n",
      "Epoch 72/128\n",
      "615/615 [==============================] - 4s 7ms/step - loss: 32911576.0000\n",
      "Epoch 73/128\n",
      "615/615 [==============================] - 5s 8ms/step - loss: 32972902.0000\n",
      "Epoch 74/128\n",
      "615/615 [==============================] - 4s 7ms/step - loss: 32925824.0000\n",
      "Epoch 75/128\n",
      "615/615 [==============================] - 5s 8ms/step - loss: 32788184.0000\n",
      "Epoch 76/128\n",
      "615/615 [==============================] - 4s 6ms/step - loss: 32909362.0000\n",
      "Epoch 77/128\n",
      "615/615 [==============================] - 4s 6ms/step - loss: 33008244.0000\n",
      "Epoch 78/128\n",
      "615/615 [==============================] - 4s 7ms/step - loss: 32874418.0000\n",
      "Epoch 79/128\n",
      "615/615 [==============================] - 4s 6ms/step - loss: 32767380.0000\n",
      "Epoch 80/128\n",
      "615/615 [==============================] - 5s 8ms/step - loss: 32831718.0000\n",
      "Epoch 81/128\n",
      "615/615 [==============================] - 6s 10ms/step - loss: 32746664.0000\n",
      "Epoch 82/128\n",
      "615/615 [==============================] - 4s 6ms/step - loss: 32893196.0000\n",
      "Epoch 83/128\n",
      "615/615 [==============================] - 4s 6ms/step - loss: 32660128.0000\n",
      "Epoch 84/128\n",
      "615/615 [==============================] - 4s 6ms/step - loss: 32841904.0000\n",
      "Epoch 85/128\n",
      "615/615 [==============================] - 5s 8ms/step - loss: 32839102.0000\n",
      "Epoch 86/128\n",
      "615/615 [==============================] - 5s 8ms/step - loss: 32727060.0000\n",
      "Epoch 87/128\n",
      "615/615 [==============================] - 4s 7ms/step - loss: 32771794.0000\n",
      "Epoch 88/128\n",
      "615/615 [==============================] - 5s 9ms/step - loss: 32565708.0000\n",
      "Epoch 89/128\n",
      "615/615 [==============================] - 6s 9ms/step - loss: 32729718.0000\n",
      "Epoch 90/128\n",
      "615/615 [==============================] - 4s 7ms/step - loss: 32627004.0000\n",
      "Epoch 91/128\n",
      "615/615 [==============================] - 4s 7ms/step - loss: 32615768.0000\n",
      "Epoch 92/128\n"
     ]
    },
    {
     "name": "stdout",
     "output_type": "stream",
     "text": [
      "615/615 [==============================] - 5s 8ms/step - loss: 32667862.0000\n",
      "Epoch 93/128\n",
      "615/615 [==============================] - 4s 6ms/step - loss: 32665630.0000\n",
      "Epoch 94/128\n",
      "615/615 [==============================] - 4s 7ms/step - loss: 32584404.0000\n",
      "Epoch 95/128\n",
      "615/615 [==============================] - 4s 7ms/step - loss: 32651630.0000\n",
      "Epoch 96/128\n",
      "615/615 [==============================] - 4s 6ms/step - loss: 32486986.0000\n",
      "Epoch 97/128\n",
      "615/615 [==============================] - 6s 9ms/step - loss: 32539864.0000\n",
      "Epoch 98/128\n",
      "615/615 [==============================] - 6s 9ms/step - loss: 32509014.0000\n",
      "Epoch 99/128\n",
      "615/615 [==============================] - 4s 6ms/step - loss: 32469300.0000\n",
      "Epoch 100/128\n",
      "615/615 [==============================] - 4s 6ms/step - loss: 32427650.0000\n",
      "Epoch 101/128\n",
      "615/615 [==============================] - 4s 6ms/step - loss: 32448264.0000\n",
      "Epoch 102/128\n",
      "615/615 [==============================] - 4s 7ms/step - loss: 32483958.0000\n",
      "Epoch 103/128\n",
      "615/615 [==============================] - 4s 7ms/step - loss: 32633486.0000\n",
      "Epoch 104/128\n",
      "615/615 [==============================] - 5s 8ms/step - loss: 32319910.0000\n",
      "Epoch 105/128\n",
      "615/615 [==============================] - 5s 8ms/step - loss: 32525478.0000\n",
      "Epoch 106/128\n",
      "615/615 [==============================] - 4s 7ms/step - loss: 32559314.0000\n",
      "Epoch 107/128\n",
      "615/615 [==============================] - 6s 10ms/step - loss: 32323554.0000\n",
      "Epoch 108/128\n",
      "615/615 [==============================] - 5s 7ms/step - loss: 32393870.0000\n",
      "Epoch 109/128\n",
      "615/615 [==============================] - 5s 8ms/step - loss: 32424726.0000\n",
      "Epoch 110/128\n",
      "615/615 [==============================] - 6s 10ms/step - loss: 32270050.0000\n",
      "Epoch 111/128\n",
      "615/615 [==============================] - 4s 6ms/step - loss: 32361450.0000\n",
      "Epoch 112/128\n",
      "615/615 [==============================] - 4s 7ms/step - loss: 32350326.0000\n",
      "Epoch 113/128\n",
      "615/615 [==============================] - 5s 9ms/step - loss: 32360102.0000\n",
      "Epoch 114/128\n",
      "615/615 [==============================] - 4s 6ms/step - loss: 32183096.0000\n",
      "Epoch 115/128\n",
      "615/615 [==============================] - 4s 6ms/step - loss: 32288506.0000\n",
      "Epoch 116/128\n",
      "615/615 [==============================] - 4s 6ms/step - loss: 32312300.0000\n",
      "Epoch 117/128\n",
      "615/615 [==============================] - 4s 7ms/step - loss: 32578856.0000\n",
      "Epoch 118/128\n",
      "615/615 [==============================] - 4s 6ms/step - loss: 32197974.0000\n",
      "Epoch 119/128\n",
      "615/615 [==============================] - 4s 7ms/step - loss: 32410272.0000\n",
      "Epoch 120/128\n",
      "615/615 [==============================] - 4s 7ms/step - loss: 32297402.0000\n",
      "Epoch 121/128\n",
      "615/615 [==============================] - 4s 7ms/step - loss: 32228086.0000\n",
      "Epoch 122/128\n",
      "615/615 [==============================] - 4s 6ms/step - loss: 32186558.0000\n",
      "Epoch 123/128\n",
      "615/615 [==============================] - 4s 6ms/step - loss: 32158032.0000\n",
      "Epoch 124/128\n",
      "615/615 [==============================] - 4s 7ms/step - loss: 32125278.0000\n",
      "Epoch 125/128\n",
      "615/615 [==============================] - 4s 6ms/step - loss: 32217484.0000\n",
      "Epoch 126/128\n",
      "615/615 [==============================] - 4s 6ms/step - loss: 32091936.0000\n",
      "Epoch 127/128\n",
      "615/615 [==============================] - 4s 6ms/step - loss: 32226056.0000\n",
      "Epoch 128/128\n",
      "615/615 [==============================] - 4s 7ms/step - loss: 32175334.0000\n"
     ]
    },
    {
     "data": {
      "text/plain": [
       "<keras.callbacks.History at 0x1e735429fc8>"
      ]
     },
     "execution_count": 16,
     "metadata": {},
     "output_type": "execute_result"
    }
   ],
   "source": [
    "inputs_x = keras.layers.Input(shape=(5, 4))\n",
    "\n",
    "x = attention_layer(inputs_x, 5)\n",
    "x = keras.layers.Masking(mask_value=0, input_shape=(5, 4))(x)\n",
    "x = keras.layers.LSTM(64, return_sequences=False, return_state=False, activation=\"relu\")(x)\n",
    "x = keras.layers.Dense(64, activation=\"relu\")(x)\n",
    "out_model = keras.layers.Dense(1, activation=\"relu\")(x)\n",
    "\n",
    "model = keras.Model(inputs=inputs_x, outputs=[out_model])\n",
    "model.compile(loss='mse', optimizer='adam')\n",
    "model.fit(X_training,y_training, epochs = epochs_n, batch_size = batch_size_n)"
   ]
  },
  {
   "cell_type": "markdown",
   "id": "f7cbd798",
   "metadata": {},
   "source": [
    "Prediction from the LSTM model"
   ]
  },
  {
   "cell_type": "code",
   "execution_count": 17,
   "id": "c0d9e7a5",
   "metadata": {},
   "outputs": [
    {
     "name": "stdout",
     "output_type": "stream",
     "text": [
      "410/410 [==============================] - 2s 2ms/step\n"
     ]
    }
   ],
   "source": [
    "y_pred = model.predict(X_testing)\n",
    "y_pred = np.squeeze(y_pred)"
   ]
  },
  {
   "cell_type": "markdown",
   "id": "50ad1470",
   "metadata": {},
   "source": [
    "Plot the predicted values"
   ]
  },
  {
   "cell_type": "code",
   "execution_count": 18,
   "id": "44c396ce",
   "metadata": {
    "scrolled": true
   },
   "outputs": [
    {
     "data": {
      "text/plain": [
       "<matplotlib.legend.Legend at 0x1e73605ea88>"
      ]
     },
     "execution_count": 18,
     "metadata": {},
     "output_type": "execute_result"
    },
    {
     "data": {
      "image/png": "[encoded data removed]",
      "text/plain": [
       "<Figure size 432x288 with 1 Axes>"
      ]
     },
     "metadata": {
      "needs_background": "light"
     },
     "output_type": "display_data"
    }
   ],
   "source": [
    "x = range(len(y_testing))\n",
    "plt.plot(x,y_testing, label=\"Zone 1 Real\")\n",
    "plt.plot(x,y_pred, label=\"Zone 1 Predicted\")\n",
    "plt.title(\"Power Consumption in different zones\")\n",
    "plt.xlabel(\"Dates\")\n",
    "plt.ylabel(\"Consumption\")\n",
    "plt.legend()"
   ]
  },
  {
   "cell_type": "markdown",
   "id": "f4d83154",
   "metadata": {},
   "source": [
    "## Explainability"
   ]
  },
  {
   "cell_type": "markdown",
   "id": "1a5804bd",
   "metadata": {},
   "source": [
    "Using a layer of attention between the input and the LSTM layer it is possible to obtain a degree of explanations. The attention values are a vector of real values that sums one."
   ]
  },
  {
   "cell_type": "code",
   "execution_count": 19,
   "id": "e1123d72",
   "metadata": {},
   "outputs": [],
   "source": [
    "model_output = model.get_layer(\"attention_layer\").output\n",
    "partial_extraction = Model(inputs = model.input, outputs=model_output)\n",
    "attention_values = np.array(partial_extraction(X_testing))"
   ]
  },
  {
   "cell_type": "markdown",
   "id": "882525ce",
   "metadata": {},
   "source": [
    "We obtain the partial values from the attention model and collect the corresponding to the actual observation and we do not consider the lagged values (t-1, t-2, t-3)"
   ]
  },
  {
   "cell_type": "code",
   "execution_count": 20,
   "id": "8ac52c65",
   "metadata": {},
   "outputs": [],
   "source": [
    "t = []\n",
    "for i in range(0,len(X_testing),90):\n",
    "    q = attention_values[i][:,3:4]\n",
    "    q = np.squeeze(q)\n",
    "    t.append(q)\n",
    "t = np.array(t).T"
   ]
  },
  {
   "cell_type": "markdown",
   "id": "4cd60719",
   "metadata": {},
   "source": [
    "Once the attention values are filtered, we can present them in a heatmap and see the evolution on time."
   ]
  },
  {
   "cell_type": "code",
   "execution_count": 21,
   "id": "ac1d1a5d",
   "metadata": {},
   "outputs": [
    {
     "data": {
      "image/png": "[encoded data removed]",
      "text/plain": [
       "<Figure size 1080x648 with 2 Axes>"
      ]
     },
     "metadata": {
      "needs_background": "light"
     },
     "output_type": "display_data"
    }
   ],
   "source": [
    "f, ax = plt.subplots(figsize=(15, 9))\n",
    "y_axis_labels = ['Temperature', 'Humidity', 'Wind Speed','general diffuse flows', 'diffuse flows'] # labels for y-axis\n",
    "sns.heatmap(t, yticklabels=y_axis_labels, cmap=\"mako\")\n",
    "plt.show()"
   ]
  },
  {
   "cell_type": "markdown",
   "id": "90b88cca",
   "metadata": {},
   "source": [
    "## References"
   ]
  },
  {
   "cell_type": "markdown",
   "id": "4872498c",
   "metadata": {},
   "source": [
    "Kaji, D. A., Zech, J. R., Kim, J. S., Cho, S. K., Dangayach, N. S., Costa, A. B., & Oermann, E. K. (2019). An attention based deep learning model of clinical events in the intensive care unit. PloS one, 14(2), e0211057.\n",
    "\n",
    "Lundberg, S. M., & Lee, S. I. (2017). A unified approach to interpreting model predictions. Advances in neural information processing systems, 30.\n",
    "\n",
    "Salam, A., & El Hibaoui, A. (2018, December). Comparison of Machine Learning Algorithms for the Power Consumption Prediction:-Case Study of Tetouan cityâ€“. In 2018 6th International Renewable and Sustainable Energy Conference (IRSEC) (pp. 1-5). IEEE.â€"
   ]
  },
  {
   "cell_type": "markdown",
   "id": "0beee2ec",
   "metadata": {},
   "source": [
    "Data: https://archive.ics.uci.edu/ml/datasets/Power+consumption+of+Tetouan+city"
   ]
  }
 ],
 "metadata": {
  "kernelspec": {
   "display_name": "Python 3",
   "language": "python",
   "name": "python3"
  },
  "language_info": {
   "codemirror_mode": {
    "name": "ipython",
    "version": 3
   },
   "file_extension": ".py",
   "mimetype": "text/x-python",
   "name": "python",
   "nbconvert_exporter": "python",
   "pygments_lexer": "ipython3",
   "version": "3.7.9"
  }
 },
 "nbformat": 4,
 "nbformat_minor": 5
}
